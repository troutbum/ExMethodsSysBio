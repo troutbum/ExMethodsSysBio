{
 "metadata": {
  "name": "",
  "signature": "sha256:e06c937f3277507c7f4f14eab5f6d7051d707d610442cf7ba1fe7011affa08f8"
 },
 "nbformat": 3,
 "nbformat_minor": 0,
 "worksheets": [
  {
   "cells": [
    {
     "cell_type": "heading",
     "level": 3,
     "metadata": {},
     "source": [
      "Question 6"
     ]
    },
    {
     "cell_type": "heading",
     "level": 4,
     "metadata": {},
     "source": [
      "A recently published study demonstrated that in a brain tumor cell line with EGFR amplification and PTEN loss, the responsiveness of particular cells within the population to dual treatment with gefitinib and BKM120 was dictated by whether the ERK signaling pathway was activated or inhibited within 30 min. of drug treatment. This ERK activation happens in about 50% of the cells. However, the factors leading to this ERK pathway activation or inhibition are unclear. We are interested in understanding the signaling mechanisms that may be operating in different cells of the population to activate or inhibit ERK signaling in this way."
     ]
    },
    {
     "cell_type": "markdown",
     "metadata": {},
     "source": [
      "The biological system of interest will be D. melanogaster with EGFR amplification and PTEN loss. Cells will be engineered to express a live-cell intramolecular CFP-YFP FRET-based reporter of ERK activity."
     ]
    },
    {
     "cell_type": "markdown",
     "metadata": {},
     "source": [
      "The biological system of interest will be the above noted cell line, seeded on a substrate suitable for live-cell imaging. Cells will be engineered to express a live-cell intramolecular CFP-YFP FRET-based reporter of ERK activity."
     ]
    },
    {
     "cell_type": "markdown",
     "metadata": {},
     "source": [
      "The biological system of interest will be a mouse brain tumor model with EGFR amplification and PTEN loss. The cells will be engineered to express a live-cell intramolecular CFP-YFP FRET-based reporter of ERK activity."
     ]
    },
    {
     "cell_type": "markdown",
     "metadata": {},
     "source": [
      "The biological system of interest will be the above noted cell line, implanted intracranially into mice. Prior to implantation, cells will be engineered to express a live-cell intramolecular CFP-YFP FRET-based reporter of ERK activity."
     ]
    },
    {
     "cell_type": "heading",
     "level": 3,
     "metadata": {},
     "source": [
      "Question 7"
     ]
    },
    {
     "cell_type": "markdown",
     "metadata": {},
     "source": [
      "To develop hypotheses for what proteins may be involved with such crosstalk, lists of genes associated with gefitinib, BKM120, and the ERK signaling pathways (all available in public databases) will be connected via previously known protein-protein interactions followed by kinase enrichment analysis using bioinformatic software tools. The top three kinase hits that have selective inhibitors will be selected for testing in subsequent experiments. These kinase inhibitors are K1, K2 and K3."
     ]
    },
    {
     "cell_type": "markdown",
     "metadata": {},
     "source": [
      "Dual treatment with gefitinib and BKM120 for 24 hours will be done, and responses measured with mRNA sequencing. The top differentially expressed genes will be candidates for subsequent experiments, which turn out to be the kinases K1, K2 and K3."
     ]
    },
    {
     "cell_type": "markdown",
     "metadata": {},
     "source": [
      "Dual treatment with gefitinib and BKM120 for 24 hours will be done, and responses measured with mass spectrometry-based proteomics after enrichment for phosphopeptides. The top differentially expressed proteins will be candidates for subsequent experiments, which turn out to be the kinases K1, K2 and K3."
     ]
    },
    {
     "cell_type": "markdown",
     "metadata": {},
     "source": [
      "Dual treatment with gefitinib and BKM120 for 30 minutes will be done, and then cells will be sorted based on CFP fluorescence (those that have ERK turned on) and subjected to mRNA sequencing. The top differentially expressed genes are K1, K2 and K3 kinases, which are selected for further analysis."
     ]
    },
    {
     "cell_type": "heading",
     "level": 3,
     "metadata": {},
     "source": [
      "Question 8"
     ]
    },
    {
     "cell_type": "markdown",
     "metadata": {},
     "source": [
      "Cells will be seeded and placed in the microscope environment with proper temperature, atmosphere and pH control, and several fields of view will be selected with cells that have appropriate healthy morphology and are expressing the FRET reporter at adequate levels (intermediate fluorescence). An imaging protocol will be set up which includes image acquisition at every field of view at 3 minute intervals, and each acquisition will include CFP excitation-CFP emission, CFP excitation-YFP emission, YFP excitation-CFP emission, and YFP excitation-YFP emission. Each channel may not be needed for analysis but are included for contingency."
     ]
    },
    {
     "cell_type": "markdown",
     "metadata": {},
     "source": [
      "Mice will be placed in the microscope environment with proper temperature, atmosphere and pH control, several fields of view will be selected with cells that have appropriate healthy morphology and are expressing the FRET reporter at adequate levels (intermediate fluorescence). An imaging protocol will be set up which includes image acquisition at every field of view at 3 minute intervals, and each acquisition will include CFP excitation-CFP emission, CFP excitation-YFP emission, YFP excitation-CFP emission, and YFP excitation-YFP emission. Each channel may not be needed for analysis but are included for contingency."
     ]
    },
    {
     "cell_type": "markdown",
     "metadata": {},
     "source": [
      "Cells will be seeded and placed in the microscope environment with proper temperature, atmosphere and pH control, and several fields of view will be selected with cells that have appropriate healthy morphology and are expressing the FRET reporter high levels to ensure the best signal to noise. An imaging protocol will be set up which includes image acquisition at every field of view at 3 minute intervals, and each acquisition will include CFP excitation-CFP emission and CFP excitation-YFP emission."
     ]
    },
    {
     "cell_type": "heading",
     "level": 3,
     "metadata": {},
     "source": [
      "Question 9"
     ]
    },
    {
     "cell_type": "markdown",
     "metadata": {},
     "source": [
      "Cells will be treated with BKM120 (B) and gefitinib (G) and then images acquired for another 30 minutes. In subsequent experiments, cells will be imaged similarly but instead treated with either control (DMSO), K1 inhibitor (i) alone, K2i alone, K3i alone, B+G+K1i, B+G+K2i, and B+G+K3i."
     ]
    },
    {
     "cell_type": "markdown",
     "metadata": {},
     "source": [
      "After a 15 min baseline of images are acquired, cells will be treated with BKM120 (B) and gefitinib (G) and then images acquired for another 30 minutes. In subsequent experiments, cells will be imaged similarly but instead treated with either control (DMSO), K1 inhibitor (i) alone, K2i alone, K3i alone, B+G+K1i, B+G+K2i, and B+G+K3i.\n",
      " "
     ]
    },
    {
     "cell_type": "markdown",
     "metadata": {},
     "source": [
      "After a 15 min baseline of images are acquired, cells will be treated with BKM120 (B) and gefitinib (G) and then images acquired for another 30 minutes. In subsequent experiments, cells will be imaged similarly but instead treated with either control (DMSO), B alone, or G alone."
     ]
    },
    {
     "cell_type": "markdown",
     "metadata": {},
     "source": [
      "After a 15 min baseline of images are acquired, cells will be treated with BKM120 (B) and gefitinib (G) and then images acquired for another 24 hours. In subsequent experiments, cells will be imaged similarly but instead treated with either control (DMSO), K1 inhibitor (i) alone, K2i alone, K3i alone, B+G+K1i, B+G+K2i, and B+G+K3i."
     ]
    },
    {
     "cell_type": "heading",
     "level": 3,
     "metadata": {},
     "source": [
      "Question 10"
     ]
    },
    {
     "cell_type": "markdown",
     "metadata": {},
     "source": [
      "To address the question of whether any of the kinase inhibitors K1, K2 or K3 had an effect on ERK pathway activation or inhibition in response to dual gefitinib and BKM120 treatment, quantitative image analysis will be performed. The background from the first field of view will be subtracted from every field of view, and then total CFP excitation-CFP emission intensity in each field of view will be divided by total YFP excitation-YFP emission intensity in that same cell. This ratio will be plotted over the time course for every field of view."
     ]
    },
    {
     "cell_type": "markdown",
     "metadata": {},
     "source": [
      "To address the question of whether any of the kinase inhibitors K1, K2 or K3 had an effect on ERK pathway activation or inhibition in response to dual gefitinib and BKM120 treatment, quantitative image analysis will be performed. Background will be subtracted from every field of view, cells identified with regions of interest, and then total CFP excitation-CFP emission intensity in each cell will be divided by total YFP excitation-YFP emission intensity in that same cell. This ratio will be plotted over the time course for every cell."
     ]
    },
    {
     "cell_type": "markdown",
     "metadata": {},
     "source": [
      "To address the question of whether any of the kinase inhibitors K1, K2 or K3 had an effect on ERK pathway activation or inhibition in response to dual gefitinib and BKM120 treatment, quantitative image analysis will be performed. Background will be subtracted from every field of view, cells identified with regions of interest, and then total CFP excitation-YFP emission intensity (FRET channel) in each cell will be plotted over the time course for every cell."
     ]
    },
    {
     "cell_type": "markdown",
     "metadata": {},
     "source": [
      "The imaging data will be given to the NSA for facial recognition analysis and they will conclude that they need to monitor glioma cell phone calls with paracrine ligand capture assays."
     ]
    },
    {
     "cell_type": "code",
     "collapsed": false,
     "input": [],
     "language": "python",
     "metadata": {},
     "outputs": []
    }
   ],
   "metadata": {}
  }
 ]
}