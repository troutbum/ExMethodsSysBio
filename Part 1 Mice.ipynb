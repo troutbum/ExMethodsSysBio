{
 "metadata": {
  "name": "",
  "signature": "sha256:939250f2dbcd4bb8a433ff094b14baaa742a0f2b70ce485da9ebd629680abc99"
 },
 "nbformat": 3,
 "nbformat_minor": 0,
 "worksheets": [
  {
   "cells": [
    {
     "cell_type": "heading",
     "level": 3,
     "metadata": {},
     "source": [
      "Question 1"
     ]
    },
    {
     "cell_type": "heading",
     "level": 4,
     "metadata": {},
     "source": [
      "Dr. Bark Mirtwistle is back and wants to explore interactions between two genetic alterations\u2014loss of PTEN and EGFR copy number amplification\u2014in the context of glioblastoma multiforme drug responses. He is interested in the proliferation and apoptosis response of cell lines to molecularly targeted therapies (e.g. EGFR inhibitors), and especially in the responses of single cells and how their variation across a cell population can contribute to drug resistance."
     ]
    },
    {
     "cell_type": "markdown",
     "metadata": {},
     "source": [
      "The biological system he will start with are a panel of four glioma cell lines that are +/- EGFR copy number amplification and +/- loss of PTEN. These four cell lines will be implanted intracranially into the brains of immunocompromised mice."
     ]
    },
    {
     "cell_type": "markdown",
     "metadata": {},
     "source": [
      "Two drugs that are associated with these mutations are an EGFR inhibitor gefitinib and a PI-3K inhibitor BKM120 (PI-3K is the enzyme that opposes PTEN). Mice will be given daily regimens of vehicle control, gefitinib alone, BKM120 alone, or the combination, and tumor growth monitored over a 3 month time course for at least 3 mice per condition and time point."
     ]
    },
    {
     "cell_type": "markdown",
     "metadata": {},
     "source": [
      "At weekly time points following the beginning of drug treatment, as approved by the Coursera thought experiment animal safety committee for ensuring the protection of most life forms that have backbones and maybe some of those that do not (CTEASCEPMLFHBMSTDN), animals will be sacrificed and tumors surgically removed and dissociated into single cell suspensions. Half of these single cell suspensions will be stained with fluorescent antibodies against epitopes specific for glioma cells vs. non-tumor cells (e.g. endothelial cells) and then subjected to FACS to enrich for glioma cells. The glioma cells will be seeded in culture dishes and allowed to expand for further experiments. The other half of the sample will be fixed and permeabilized for subsequent analysis."
     ]
    },
    {
     "cell_type": "markdown",
     "metadata": {},
     "source": [
      "Once the seeded glioma cells have expanded to sufficient numbers, they will be treated with vehicle control, gefitinib alone, BKM120 alone, or the combination for 48 hours. Each sample of cells will be lifted from the culture dish and prepared into two equal size single cell suspensions for analysis of apoptosis and proliferation using flow cytometry. Proliferation will be assessed by a dual staining with propidium iodide and anti-BrdU FITC antibodies (a BrdU pulse will be applied prior to lifting the cells), with propidium iodide (PI) fluorescence collected on a linear scale and anti-BrdU fluorescence on a log scale. Apoptosis will be assessed by staining with Annexin-V-FITC and PI, without permeablization, with fluorescence of both collected on a log scale. In each case, excitation with a 488 nm laser will be applied, cells will be gated by FSC vs. SSC, doublets will be gated out by SSC area vs. SSC width, and then proliferative and apoptotic responses quantified via fraction of singlet cells in different gates as follows. Those cells that are BrdU positive will be considered S-phase, those with high DNA content as G2/M, and those with low DNA content as G0/G1. Those cells that are Annexin-V positive will be considered apoptotic, and those that are Annexin-V positive and PI positive as dead."
     ]
    },
    {
     "cell_type": "markdown",
     "metadata": {},
     "source": [
      "Mass cytometry will be applied to deeply measure pharmacodynamic responses across the fixed and permeabilized cells from the tumor (pathway target of drugs\u2014phospho-EGFR for gefitinib and phospho-Akt for BKM120), simultaneously with cell-to-cell variability in the expression of EGFR, PTEN and PI-3K, as well as delineate cell type by accepted lineage markers for glioma stem cells. A panel of 15 such antibodies will be incubated with the cells, each labeled with a different heavy metal element. Additionally, cells will be labeled with a metal-conjugated DNA intercalator to enable discrimination between cells and debris."
     ]
    },
    {
     "cell_type": "code",
     "collapsed": false,
     "input": [],
     "language": "python",
     "metadata": {},
     "outputs": []
    }
   ],
   "metadata": {}
  }
 ]
}