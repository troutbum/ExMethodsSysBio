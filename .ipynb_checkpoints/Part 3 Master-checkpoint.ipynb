{
 "metadata": {
  "name": "",
  "signature": "sha256:9494a7cd9c2914b8bd0324d39e17c08a5f107ebdf162e571011effff391f5c24"
 },
 "nbformat": 3,
 "nbformat_minor": 0,
 "worksheets": [
  {
   "cells": [
    {
     "cell_type": "heading",
     "level": 3,
     "metadata": {},
     "source": [
      "Question 11"
     ]
    },
    {
     "cell_type": "heading",
     "level": 4,
     "metadata": {},
     "source": [
      "Eight years into his PhD career, poor Lostly Q. Givenup still has no meaningful findings or publications, although he has now, thanks to the help of the postdocs in Prof. Bigshot\u2019s lab, finally managed to obtain quality proteomics data for proteins that interact with the novel protein Exciting. When he emailed Prof. Dontcare about the results, a month later Prof. Dontcare responded with \u201clooks good\u201d."
     ]
    },
    {
     "cell_type": "markdown",
     "metadata": {},
     "source": [
      "Lostly decides to stop considering Prof. Dontcare\u2019s opinion, or lack thereof, and takes matters into his own hands. He has attended some interesting seminars on systems biology analysis and decides that such analysis might help him generate meaningful findings from this proteomics data set."
     ]
    },
    {
     "cell_type": "markdown",
     "metadata": {},
     "source": [
      "Lostly goes to Mallorca to find Prof. Dontcare, and discuss the data in person. However Prof. Dontcare will not get out of the pool or stop drinking mojitos."
     ]
    },
    {
     "cell_type": "markdown",
     "metadata": {},
     "source": [
      "Lostly decides to switch labs, because he wants to spend another five years or more getting another project going."
     ]
    },
    {
     "cell_type": "markdown",
     "metadata": {},
     "source": [
      "Lostly finally decides this project is going nowhere and gets a real job doing construction, only to find he quite liked having nobody caring what he was doing every day. However, Lostly does find it nice that at the end of the day he can look at and touch what he has accomplished.\n",
      " "
     ]
    },
    {
     "cell_type": "heading",
     "level": 3,
     "metadata": {},
     "source": [
      "Question 12"
     ]
    },
    {
     "cell_type": "markdown",
     "metadata": {},
     "source": [
      "His first step is to take this list of interacting proteins and rank them by the measured strength of the interaction. He then performs gene set enrichment analysis to find statistically significant overlap with other previously defined gene sets. He also performs gene ontology analysis (on the unranked list) to provide further clues as to biological processes, molecular functions, and cellular compartments that Exciting may be associated with."
     ]
    },
    {
     "cell_type": "markdown",
     "metadata": {},
     "source": [
      "His first step is to take this list of interacting proteins and determine their corresponding genes. He ranks this gene list by the measured strength of the interaction, and then performs gene set enrichment analysis to find statistically significant overlap with other previously defined gene sets. He also performs gene ontology analysis (on the unranked list) to provide further clues as to biological processes, molecular functions, and cellular compartments that Exciting may be associated with."
     ]
    },
    {
     "cell_type": "markdown",
     "metadata": {},
     "source": [
      "His first step is to take this list of interacting proteins and determine their transcription factors. He then performs gene ontology analysis on the transcription factors to provide further clues as to biological processes, molecular functions, and cellular compartments that Exciting may be associated with."
     ]
    },
    {
     "cell_type": "markdown",
     "metadata": {},
     "source": [
      "His first step is to take this list of interacting proteins and determine their corresponding genes. He ranks this gene list by the measured strength of the interaction, and then performs gene set enrichment analysis to find statistically significant overlap with other previously defined gene sets. He also performs gene ontology analysis (on the unranked list) to provide further clues as to cell types that Exciting may be associated with."
     ]
    },
    {
     "cell_type": "heading",
     "level": 3,
     "metadata": {},
     "source": [
      "Question 13"
     ]
    },
    {
     "cell_type": "markdown",
     "metadata": {},
     "source": [
      "The previous analysis suggests that Exciting is involved in transcriptional responses as well as kinase signal transduction. Lostly is fortunate to have a very good genomics core facility at his institution and submits two samples (in triplicate) for mRNAseq. He performs differential expression analysis based on difference in counts to derive a list of genes who\u2019s transcript levels are potentially regulated by Exciting. He inputs this list into ChEA, which informs him that TF1 and TF2 are likely involved with the observed transcriptional response. He further inputs this list, along with the interacting protein list, into Expression2Kinases, which informs him that Kin1 is very likely involved with regulating Exciting."
     ]
    },
    {
     "cell_type": "markdown",
     "metadata": {},
     "source": [
      "The previous analysis suggests that Exciting is involved in transcriptional responses as well as kinase signal transduction. Lostly is fortunate to have a very good genomics core facility at his institution and submits two samples (in triplicate) for mRNAseq from a cell culture model of debilitating disease. He performs differential expression analysis via the cufflinks/cuffdiff pipeline to derive a list of genes who\u2019s transcript levels are potentially regulated by Exciting. He inputs this list, along with the interacting protein list, into Expression2Kinases, which informs him that TF1, TF2, (transcription factors) and Kin1 (a kinase) are very likely involved with regulating Exciting."
     ]
    },
    {
     "cell_type": "markdown",
     "metadata": {},
     "source": [
      "The previous analysis suggests that Exciting is involved in transcriptional responses as well as kinase signal transduction. Lostly is fortunate to have a very good genomics core facility at his institution and submits two samples (in triplicate) for mRNAseq, +/- siRNA against Exciting from a cell culture model of debilitating disease. He performs differential expression analysis via the cufflinks/cuffdiff pipeline to derive a list of genes who\u2019s transcript levels are potentially regulated by Exciting. He inputs this list into ChEA, which informs him that TF1 and TF2 are likely involved with the observed transcriptional response. He further inputs this list, along with the interacting protein list, into Expression2Kinases, which informs him that Kin1 is very likely involved with regulating Exciting."
     ]
    },
    {
     "cell_type": "markdown",
     "metadata": {},
     "source": [
      "The previous analysis suggests that Exciting is involved in transcriptional responses as well as kinase signal transduction. Therefore he performs transcription factor analysis based on the Exciting promoter, to output a list of transcription factors. He further inputs this list, along with the interacting protein list, into Expression2Kinases, which informs him that TF1, TF2, (transcription factors) and Kin1 (a kinase) are very likely involved with regulating Exciting."
     ]
    },
    {
     "cell_type": "heading",
     "level": 3,
     "metadata": {},
     "source": [
      "Question 14"
     ]
    },
    {
     "cell_type": "markdown",
     "metadata": {},
     "source": [
      "Many prior studies have shown that oscillatory activation patterns (over several hours) of Kin1 activity in response to oxidative stress gives rise to upregulation of gene expression mediated by TF1 and TF2, which promotes a protective antixoxidant response. Lostly therefore hypothesizes that Exciting may play a key role in transmitting the Kin1 signal to TF1 and TF2, or perhaps vice versa, from TF1 and TF2-regulated genes to Kin1. It is already known that the levels of Exciting do not change in response to oxidative stress. Luckily, there is a live-cell reporter for Kin1 activity that Lostly\u2019s lab bench neighbor has access to and has validated. This reporter is based on localization of GFP fluorescence to the cytoplasm vs. the plasma membrane. Lostly transfects the live-cell reporter of Kin1 activity into the cell line model of Debilitating Disease, treats +/- oxidative stress, and observes Kin1 activity in several single cells under each condition using flow cytometry, every hour for an eight hour time course."
     ]
    },
    {
     "cell_type": "markdown",
     "metadata": {},
     "source": [
      "Many prior studies have shown that oscillatory activation patterns (over several hours) of Kin1 activity in response to oxidative stress gives rise to upregulation of gene expression mediated by TF1 and TF2, which promotes a protective antixoxidant response. Lostly therefore hypothesizes that Exciting may play a key role in transmitting the Kin1 signal to TF1 and TF2, or perhaps vice versa, from TF1 and TF2-regulated genes to Kin1. It is already known that the levels of Exciting do not change in response to oxidative stress. Luckily, there is a live-cell reporter for Kin1 activity that Lostly\u2019s lab bench neighbor has access to and has validated. This reporter is based on localization of GFP fluorescence to the cytoplasm vs. the plasma membrane. Lostly, using the cell line model of Debilitating Disease, creates a line stably expressing the live-cell reporter of Kin1 activity. He performs live-cell experiments with these cells +/- siRNA against Exciting, +/- cycloheximide and +/- oxidative stress, and observes Kin1 activity in several single cells under each condition, over an 8 hour time lapse."
     ]
    },
    {
     "cell_type": "markdown",
     "metadata": {},
     "source": [
      "Many prior studies have shown that oscillatory activation patterns (over several hours) of Kin1 activity in response to oxidative stress gives rise to upregulation of gene expression mediated by TF1 and TF2, which promotes a protective antixoxidant response. Lostly therefore hypothesizes that Exciting may play a key role in facilitating Kin1-mediated crosstalk between TF1 and TF2. It is already known that the levels of Exciting do not change in response to oxidative stress. Luckily, there is a live-cell reporter for Kin1 activity that Lostly\u2019s lab bench neighbor has access to and has validated. This reporter is based on localization of GFP fluorescence to the cytoplasm vs. the plasma membrane. Lostly transfects the live-cell reporter of Kin1 activity into the cell line model of Debilitating Disease, treats cells +/- siRNA against Exciting, +/- cycloheximide and +/- oxidative stress, and observes Kin1 activity in several single cells under each condition using flow cytometry, every hour for an eight hour time course."
     ]
    },
    {
     "cell_type": "markdown",
     "metadata": {},
     "source": [
      "Many prior studies have shown that oscillatory activation patterns (over several hours) of Kin1 activity in response to oxidative stress gives rise to upregulation of gene expression mediated by TF1 and TF2, which promotes a protective antixoxidant response. Lostly therefore hypothesizes that Exciting may play a key role in transmitting the Kin1 signal to TF1 and TF2, or perhaps vice versa, from TF1 and TF2-regulated genes to Kin1. It is already known that the levels of Exciting do not change in response to oxidative stress. Luckily, there is a live-cell reporter for Kin1 activity that Lostly\u2019s lab bench neighbor has access to and has validated. This reporter is based on localization of GFP fluorescence to the cytoplasm vs. the plasma membrane. Lostly transfects the live-cell reporter of Kin1 activity into the cell line model of Debilitating Disease, treats cells +/- siRNA against Exciting, +/- cycloheximide and +/- oxidative stress, and observes Kin1 activity in several single cells under each condition using flow cytometry, every hour for an eight hour time course."
     ]
    },
    {
     "cell_type": "heading",
     "level": 3,
     "metadata": {},
     "source": [
      "Question 15"
     ]
    },
    {
     "cell_type": "markdown",
     "metadata": {},
     "source": [
      "Lostly carefully analyzes the time course data to quantify the activity dynamics of Kin1 in response to oxidative stress. He subtracts background, and then defines regions of interest in each cell for each time point that correspond to the cytoplasm or plasma membrane. He takes the ratio of fluorescence intensity of one to the other as the measure of Kin1 activity. He finds very complex patterns of oxidative stress-induced oscillatory activity that are heterogeneous and unsynchronized across cells when Exciting is present, but more homogeneous and non-oscillatory responses when Exciting is absent. When cycloheximide is used, the oscillations also stop. He decides to interpret these observations with a differential equation-based model to understand whether these data suggest Exciting is upstream or downstream of TF1 and TF2, and how that regulates Kin1 activity. He performs simulations under several different assumptions, where Exciting (i) mediates negative feedback to Kin1 after TF1 and TF2 induce gene expression, (ii) mediates positive feedback to Kin1 after TF1 and TF21 induce gene expression, or (iii) is necessary for TF1 and TF2 to induce gene expression. The modeling analysis suggests that both scenarios (i) and (iii) are compatible with the observations, so more experiments are needed to distinguish between the different possibilities."
     ]
    },
    {
     "cell_type": "markdown",
     "metadata": {},
     "source": [
      "Lostly carefully analyzes the time course data to quantify the activity dynamics of Kin1 in response to oxidative stress. He subtracts background, and then defines regions of interest in each cell for each time point that correspond to the cytoplasm or plasma membrane. He takes the ratio of fluorescence intensity of one to the other as the measure of Kin1 activity. He finds very complex patterns of oxidative stress-induced oscillatory activity that are heterogeneous and unsynchronized across cells when Exciting is present, but more homogeneous and non-oscillatory responses when Exciting is absent. When cycloheximide is used, the oscillations also stop. He decides to interpret these observations with a differential equation-based model to understand whether these data suggest Exciting is upstream or downstream of TF1 and TF2, and how that regulates Kin1 activity. He performs simulations under several different assumptions, where Exciting (i) mediates negative feedback to Kin1 after TF1 and TF2 induce gene expression, (ii) mediates positive feedback to Kin1 after TF1 and TF21 induce gene expression, or (iii) is necessary for TF1 and TF2 to induce gene expression. The modeling analysis suggests that both scenarios (i) and (ii) are compatible with the observations, so more experiments are needed to distinguish between the different possibilities."
     ]
    },
    {
     "cell_type": "markdown",
     "metadata": {},
     "source": [
      "Lostly carefully analyzes the time course data to quantify the activity dynamics of Kin1 in response to oxidative stress. He takes the ratio of fluorescence intensity of FSC vs. GFP fluorescence as the measure of Kin1 activity (FSC is related to the cell size, and therefore reflective of the edges of the membrane). He finds very complex patterns of oxidative stress-induced oscillatory activity that are heterogeneous and unsynchronized across cells when Exciting is present, but more homogeneous and non-oscillatory responses when Exciting is absent. When cycloheximide is used, the oscillations also stop. He decides to interpret these observations with a differential equation-based model to understand whether these data suggest Exciting is upstream or downstream of TF1 and TF2, and how that regulates Kin1 activity. He performs simulations under several different assumptions, where Exciting (i) mediates negative feedback to Kin1 after TF1 and TF2 induce gene expression, (ii) mediates positive feedback to Kin1 after TF1 and TF21 induce gene expression, or (iii) is necessary for TF1 and TF2 to induce gene expression. The modeling analysis suggests that both scenarios (i) and (iii) are compatible with the observations, so more experiments are needed to distinguish between the different possibilities."
     ]
    },
    {
     "cell_type": "markdown",
     "metadata": {},
     "source": [
      "Lostly carefully analyzes the time course data to quantify the activity dynamics of Kin1 in response to oxidative stress. He takes the ratio of fluorescence intensity of FSC vs. GFP fluorescence as the measure of Kin1 activity (FSC is related to the cell size, and therefore reflective of the edges of the membrane). He finds very complex patterns of oxidative stress-induced oscillatory activity that are heterogeneous and unsynchronized across cells when Exciting is present, but more homogeneous and non-oscillatory responses when Exciting is absent. When cycloheximide is used, the oscillations also stop. He decides to interpret these observations with a differential equation-based model to understand whether these data suggest Exciting is upstream or downstream of TF1 and TF2, and how that regulates Kin1 activity. He performs simulations under several different assumptions, where Exciting (i) mediates negative feedback to Kin1 after TF1 and TF2 induce gene expression, (ii) mediates positive feedback to Kin1 after TF1 and TF21 induce gene expression, or (iii) is necessary for TF1 and TF2 to induce gene expression. The modeling analysis suggests that scenario (i) or (ii) is compatible with the observations, so more experiments are needed to distinguish between the different possibilities."
     ]
    },
    {
     "cell_type": "code",
     "collapsed": false,
     "input": [],
     "language": "python",
     "metadata": {},
     "outputs": []
    }
   ],
   "metadata": {}
  }
 ]
}