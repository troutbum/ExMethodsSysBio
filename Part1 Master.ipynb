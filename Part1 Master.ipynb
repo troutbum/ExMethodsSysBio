{
 "metadata": {
  "name": "",
  "signature": "sha256:25b39d719d205d49072f7c9c62667f1e974dcb5d68dbfee4de383e2cf0d273f9"
 },
 "nbformat": 3,
 "nbformat_minor": 0,
 "worksheets": [
  {
   "cells": [
    {
     "cell_type": "heading",
     "level": 3,
     "metadata": {},
     "source": [
      "Question 1"
     ]
    },
    {
     "cell_type": "heading",
     "level": 4,
     "metadata": {},
     "source": [
      "Dr. Bark Mirtwistle is back and wants to explore interactions between two genetic alterations\u2014loss of PTEN and EGFR copy number amplification\u2014in the context of glioblastoma multiforme drug responses. He is interested in the proliferation and apoptosis response of cell lines to molecularly targeted therapies (e.g. EGFR inhibitors), and especially in the responses of single cells and how their variation across a cell population can contribute to drug resistance."
     ]
    },
    {
     "cell_type": "markdown",
     "metadata": {},
     "source": [
      "The biological system he will start with are a panel of four glioma cell lines that are +/- EGFR copy number amplification and +/- loss of PTEN. These four cell lines will be seeded into cell culture dishes for further analysis.\n",
      "\n",
      "NO. CELL CULTURE"
     ]
    },
    {
     "cell_type": "markdown",
     "metadata": {},
     "source": [
      "The biological systems he will start with are primary neurons as normal controls, EGFR amplified glioma cells, PTEN null glioma cells, and mouse embryonic fibroblasts that are EGFR amplified and PTEN null. These cell lines will be seeded into cell culture dishes for further analysis.\n",
      "\n",
      "NO.  CELL CULTURE"
     ]
    },
    {
     "cell_type": "markdown",
     "metadata": {},
     "source": [
      "The biological system he will start with are 2 strains of immunocompromised mice, one with inducible, brain glial cell-specific EGFR amplification, and the other with inducible, brain glial cell-specific PTEN ablation. Upon induction brain tumors form.\n",
      "\n",
      "NO."
     ]
    },
    {
     "cell_type": "markdown",
     "metadata": {},
     "source": [
      "The biological system he will start with are a panel of four glioma cell lines that are +/- EGFR copy number amplification and +/- loss of PTEN. These four cell lines will be implanted intracranially into the brains of immunocompromised mice.\n",
      "\n",
      "YES.  MATCHES DESIRED GENETIC TESTS"
     ]
    },
    {
     "cell_type": "heading",
     "level": 3,
     "metadata": {},
     "source": [
      "Question 2"
     ]
    },
    {
     "cell_type": "markdown",
     "metadata": {},
     "source": [
      "Two drugs that are associated with these mutations are an EGFR inhibitor gefitinib and a PI-3K inhibitor BKM120 (PI-3K is the enzyme that opposes PTEN). Mice will be given daily regimens of vehicle control, gefitinib alone, BKM120 alone, or the combination, and tumor growth monitored over a 3 month time course for at least 3 mice per condition and time point.\n",
      "\n",
      "YES."
     ]
    },
    {
     "cell_type": "markdown",
     "metadata": {},
     "source": [
      "Mice will be treated with the standard of care regimen, which includes radiation and chemotherapy with temozolomide.\n",
      "\n",
      "NO.  MORE TREATMENTS OBFUSCATE EXPERIMENT"
     ]
    },
    {
     "cell_type": "markdown",
     "metadata": {},
     "source": [
      "Two drugs that are associated with these mutations are an EGFR inhibitor gefitinib and a PI-3K inhibitor BKM120 (PI-3K is the enzyme that opposes PTEN). Seeded cells will be treated with control, gefitinib alone, BKM120 alone, or the combination.\n",
      "\n",
      "NO. CELL CULTURE."
     ]
    },
    {
     "cell_type": "markdown",
     "metadata": {},
     "source": [
      "The cells will be treated with temozolomide, a standard of care for glioblastoma, as well as radiation.\n",
      "\n",
      "NO.  MORE TREATMENTS OBFUSCATE EXPERIMENT"
     ]
    },
    {
     "cell_type": "heading",
     "level": 3,
     "metadata": {},
     "source": [
      "Question 3"
     ]
    },
    {
     "cell_type": "markdown",
     "metadata": {},
     "source": [
      "At weekly time points following the beginning of drug treatment, as approved by the Coursera thought experiment animal safety committee for ensuring the protection of most life forms that have backbones and maybe some of those that do not (CTEASCEPMLFHBMSTDN), animals will be sacrificed and tumors surgically removed and dissociated into single cell suspensions. Half of these single cell suspensions will be stained with metal conjugated antibodies against epitopes specific for glioma cells vs. non-tumor cells (e.g. endothelial cells) and then sorted to enrich for glioma cells with mass cytometry. The glioma cells will be seeded in culture dishes and allowed to expand for further experiments. The other half of the sample will be fixed and permeabilized for subsequent analysis.\n",
      "\n",
      "NO. YOU DON'T SORT AND ENRICH WITH MASS CYTOMETRY.  INCINERATE!"
     ]
    },
    {
     "cell_type": "markdown",
     "metadata": {},
     "source": [
      "The treated cells will be assayed for apoptosis via flow cytometry with annexin-V-FITC staining at several time points following treatment (up to 72 hours), to understand the fraction of cells responding to the various treatments given the different mutation backgrounds. The apoptotic cells will further be sorted via FACS and seeded in culture dishes and allowed to expand for further experiments.\n",
      "\n",
      "NO.  APOPTOTIC CELLS WON'T EXPAND.  CELL CULTURE DEAD END."
     ]
    },
    {
     "cell_type": "markdown",
     "metadata": {},
     "source": [
      "At weekly time points following the beginning of drug treatment, as approved by the Coursera thought experiment animal safety committee for ensuring the protection of most life forms that have backbones and maybe some of those that do not (CTEASCEPMLFHBMSTDN), animals will be sacrificed and tumors surgically removed. The levels of proliferation and apoptosis in the tumors will be assayed by western blot against relevant protein markers of these phenotypes, which will inform the efficacy of the various treatments on the different mutation backgrounds.\n",
      "\n",
      "NO.  NO EXPANDED SEEDED CELLS"
     ]
    },
    {
     "cell_type": "markdown",
     "metadata": {},
     "source": [
      "At weekly time points following the beginning of drug treatment, as approved by the Coursera thought experiment animal safety committee for ensuring the protection of most life forms that have backbones and maybe some of those that do not (CTEASCEPMLFHBMSTDN), animals will be sacrificed and tumors surgically removed and dissociated into single cell suspensions. Half of these single cell suspensions will be stained with fluorescent antibodies against epitopes specific for glioma cells vs. non-tumor cells (e.g. endothelial cells) and then subjected to FACS to enrich for glioma cells. The glioma cells will be seeded in culture dishes and allowed to expand for further experiments. The other half of the sample will be fixed and permeabilized for subsequent analysis.\n",
      "\n",
      "YES."
     ]
    },
    {
     "cell_type": "heading",
     "level": 3,
     "metadata": {},
     "source": [
      "Question 4"
     ]
    },
    {
     "cell_type": "markdown",
     "metadata": {},
     "source": [
      "Once the seeded glioma cells have expanded to sufficient numbers, they will be treated with vehicle control, gefitinib alone, BKM120 alone, or the combination for 48 hours. Each sample of cells will be lifted from the culture dish and prepared into two equal size single cell suspensions for analysis of apoptosis and proliferation using flow cytometry. Proliferation will be assessed by a dual staining with propidium iodide and anti-BrdU FITC antibodies (a BrdU pulse will be applied prior to lifting the cells), with propidium iodide (PI) fluorescence collected on a linear scale and anti-BrdU fluorescence on a log scale. Apoptosis will be assessed by staining with Annexin-V-FITC and PI, without permeablization, with fluorescence of both collected on a log scale. In each case, excitation with a 488 nm laser will be applied, cells will be gated by FSC vs. SSC, doublets will be gated out by SSC area vs. SSC width, and then proliferative and apoptotic responses quantified via fraction of singlet cells in different gates as follows. Those cells that are BrdU positive will be considered S-phase, those with high DNA content as G2/M, and those with low DNA content as G0/G1. Those cells that are Annexin-V positive will be considered apoptotic, and those that are Annexin-V positive and PI positive as dead.\n",
      "\n",
      "YES.  SAME AS BELOW BUT WITH 2 SAMPLES FOR APOPTOSIS & PROLIFERATION"
     ]
    },
    {
     "cell_type": "markdown",
     "metadata": {},
     "source": [
      "Once the seeded glioma cells have expanded to sufficient numbers, they will be treated with vehicle control, gefitinib alone, BKM120 alone, or the combination for 48 hours. Each sample of cells will be lifted from the culture dish and prepared into two equal size single cell suspensions for analysis of apoptosis and proliferation using flow cytometry. Proliferation will be assessed by a dual staining with propidium iodide and anti-BrdU FITC antibodies (a BrdU pulse will be applied prior to lifting the cells), with propidium iodide (PI) fluorescence collected on a linear scale and anti-BrdU fluorescence on a log scale. Apoptosis will be assessed by staining with Annexin-V-FITC and PI, without permeablization, with fluorescence of both collected on a linear scale. In each case, excitation with a 488 nm laser will be applied, cells will be gated by PI-positivity, doublets will be gated out by Annexin-V-FITC area vs. Annexin-V-FITC width, and then proliferative and apoptotic responses quantified via fraction of singlet cells in different gates as follows. Those cells that are BrdU positive will be considered S-phase, those with high DNA content as G2/M, and those with low DNA content as G0/G1. Those cells that are Annexin-V positive will be considered apoptotic, and those that are Annexin-V positive and PI positive as dead.\n",
      "\n",
      "NO.  Apoptosis will be assessed by staining with Annexin-V-FITC and PI, without permeablization, with fluorescence of both collected on a linear scale."
     ]
    },
    {
     "cell_type": "markdown",
     "metadata": {},
     "source": [
      "Once the seeded glioma cells have expanded to sufficient numbers, they will be treated with vehicle control, gefitinib alone, BKM120 alone, or the combination for 48 hours. Each sample of cells will be lifted from the culture dish and prepared into two equal size single cell suspensions for analysis of apoptosis and proliferation using flow cytometry. Proliferation will be assessed by a dual staining with propidium iodide and anti-BrdU FITC antibodies (a BrdU pulse will be applied prior to lifting the cells), with propidium iodide (PI) fluorescence both collected on a log scale. Apoptosis will be assessed by staining with Annexin-V-FITC and PI, without permeablization, with fluorescence of both collected on a linear scale. In each case, excitation with a 633 nm laser will be applied, cells will be gated by FSC vs. SSC, doublets will be gated out by SSC area vs. SSC width, and then proliferative and apoptotic responses quantified via fraction of singlet cells in different gates as follows. Those cells that are BrdU positive and Annexin-V positive will be considered S-phase, those with high DNA content as G2/M, and those with low DNA content as G0/G1. Those cells that are Annexin-V positive and BrdU positive will be considered apoptotic, and those that are Annexin-V positive and PI negative as dead.\n",
      "\n",
      "NO.  633nM IS WRONG.  PI- IS WRONG."
     ]
    },
    {
     "cell_type": "markdown",
     "metadata": {},
     "source": [
      "\n",
      "Once the seeded glioma cells have expanded to sufficient numbers, they will be treated with vehicle control, gefitinib alone, BKM120 alone, or the combination for 48 hours. Each sample of cells will be lifted from the culture dish and prepared single cell suspensions for analysis of apoptosis and proliferation using flow cytometry. Proliferation will be assessed by a dual staining with propidium iodide and anti-BrdU FITC antibodies (a BrdU pulse will be applied prior to lifting the cells), with propidium iodide (PI) fluorescence collected on a linear scale and anti-BrdU fluorescence on a log scale. Apoptosis will be assessed by staining with Annexin-V-FITC and PI, with fluorescence of both collected on a log scale. In each case, excitation with a 488 nm laser will be applied, cells will be gated by FSC vs. SSC, doublets will be gated out by SSC area vs. SSC width, and then proliferative and apoptotic responses quantified via fraction of singlet cells in different gates as follows. Those cells that are BrdU positive will be considered S-phase, those with high DNA content as G2/M, and those with low DNA content as G0/G1. Those cells that are Annexin-V positive will be considered apoptotic, and those that are Annexin-V positive and PI positive as dead.\n",
      "\n",
      "?.  APOPTOSIS ANNEXIN-V-FITC AND PI ON LOG SCALE?  SINGLE SAMPLE."
     ]
    },
    {
     "cell_type": "heading",
     "level": 3,
     "metadata": {},
     "source": [
      "Question 5"
     ]
    },
    {
     "cell_type": "markdown",
     "metadata": {},
     "source": [
      "Mass cytometry will be applied to deeply measure pharmacodynamic responses across the fixed and permeabilized cells from the tumor (pathway target of drugs\u2014phospho-EGFR for gefitinib and phospho-Akt for BKM120), simultaneously with cell-to-cell variability in the expression of EGFR, PTEN and PI-3K, as well as delineate cell type by accepted lineage markers for glioma stem cells. A panel of 150 such antibodies will be incubated with the cells, each labeled with a different heavy metal element.\n",
      "\n",
      "NO. 150 TOO MANY FOR CURRENT TECH"
     ]
    },
    {
     "cell_type": "markdown",
     "metadata": {},
     "source": [
      "Mass cytometry will be applied to deeply measure pharmacodynamic responses across the fixed and permeabilized cells from the tumor (pathway target of drugs\u2014phospho-EGFR for gefitinib and phospho-Akt for BKM120), simultaneously with cell-to-cell variability in the expression of EGFR, PTEN and PI-3K, as well as delineate cell type by accepted lineage markers for glioma stem cells. A panel of 15 such antibodies will be incubated with the cells, each labeled with a different heavy metal element. Additionally, cells will be labeled with a metal-conjugated DNA intercalator to enable discrimination between cells and debris.\n",
      "\n",
      "YES.  FIXED AND PERMEABILIZED CELLS FROM TUMOR.  PRE-TREATMENT SAMPLE.  INTERESTED IN DRUG RESISTANCE.  BUT SAMPLED OVER 3 MONTHS SO NEED CELLS THAT ARE FIXED?"
     ]
    },
    {
     "cell_type": "markdown",
     "metadata": {},
     "source": [
      "Live-cell imaging will be applied to deeply measure pharmacodynamic responses across the harvested cells from the tumor (pathway target of drugs\u2014phospho-EGFR for gefitinib and phospho-Akt for BKM120), simultaneously with cell-to-cell variability in the expression of EGFR, PTEN and PI-3K, as well as delineate cell type by accepted lineage markers for glioma stem cells. A panel of 15 such antibodies will be incubated with the cells, each labeled with a different heavy metal element. Additionally, cells will be labeled with a metal-conjugated DNA intercalator to enable discrimination between cells and debris.\n",
      "\n",
      "NO.  LIVE-CELL IMAGING AND HEAVY METAL ANTIBODIES???"
     ]
    },
    {
     "cell_type": "markdown",
     "metadata": {},
     "source": [
      "Mass cytometry will be applied to deeply measure pharmacodynamic responses across the treated cells that have been lifted into a single cell suspension (primary target of drugs\u2014phospho-EGFR for gefitinib and phospho-Akt for BKM120), simultaneously with cell-to-cell variability in the expression of EGFR, PTEN and PI-3K, as well as delineate cell type by accepted lineage markers for glioma stem cells. A panel of 15 such antibodies will be incubated with the cells, each labeled with a different heavy metal element. Additionally, cells will be labeled with a metal-conjugated DNA intercalator to enable discrimination between cells and debris.\n",
      "\n",
      "MAYBE.  TREATED CELLS LIFTED INTO A SINGLE CELL SUSPSENSION.  INTERESTED IN SINGLE CELL RESPONSES.\n",
      "BUT treated cells that have been lifted into a single cell suspension matches incorrect previous question?"
     ]
    },
    {
     "cell_type": "code",
     "collapsed": false,
     "input": [],
     "language": "python",
     "metadata": {},
     "outputs": [],
     "prompt_number": 0
    }
   ],
   "metadata": {}
  }
 ]
}